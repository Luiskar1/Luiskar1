{
  "nbformat": 4,
  "nbformat_minor": 0,
  "metadata": {
    "colab": {
      "provenance": [],
      "collapsed_sections": [],
      "mount_file_id": "16w3HRrornAga2mVvMD-SIu_wvZk_CSff",
      "authorship_tag": "ABX9TyPcxOJhF/zyBcV5r7nyQxqd",
      "include_colab_link": true
    },
    "kernelspec": {
      "name": "python3",
      "display_name": "Python 3"
    },
    "language_info": {
      "name": "python"
    }
  },
  "cells": [
    {
      "cell_type": "markdown",
      "metadata": {
        "id": "view-in-github",
        "colab_type": "text"
      },
      "source": [
        "<a href=\"https://colab.research.google.com/github/Luiskar1/Luiskar1/blob/main/Estad%C3%ADsticaBasica.ipynb\" target=\"_parent\"><img src=\"https://colab.research.google.com/assets/colab-badge.svg\" alt=\"Open In Colab\"/></a>"
      ]
    },
    {
      "cell_type": "markdown",
      "source": [
        "**ESTADÍSTICA BÁSICA CON PHYTON**"
      ],
      "metadata": {
        "id": "Wngbm8nq3s0z"
      }
    },
    {
      "cell_type": "markdown",
      "source": [
        "**Librerías**\n",
        "\n",
        "¿Para qué sirve cada cosa?\n",
        "\n",
        "NumPy: sirve para realizar cálculos numéricos con matrices de forma sencilla y \n",
        "eficiente y tanto SciPy como Pandas la usan de forma interna. NumPy es la base del stack científico de Python.\n",
        "\n",
        "SciPy: es una colección de módulos dedicados a diversas áreas científicas. Nosotros usaremos principalmente el módulo stats.\n",
        "\n",
        "Pandas: es una librería que permite manipular grandes conjuntos de datos en tablas con facilidad. Además permite importar y exportar esos datos.\n",
        "\n",
        "Matplotlib: permite realizar gráficos y diagramas con facilidad, mostrarlos en pantalla o guardarlos a archivos.\n",
        "\n",
        "statistics: permite las funciones estadísticas de medidas centrales y de tendencia"
      ],
      "metadata": {
        "id": "PBhGvF5F4A30"
      }
    },
    {
      "cell_type": "code",
      "source": [
        "# Importamos las librerías\n",
        "import numpy as np\n",
        "import pandas as pd\n",
        "import scipy as sci\n",
        "import matplotlib.pyplot as plt\n",
        "import statistics as stats"
      ],
      "metadata": {
        "id": "P9zTOvn94k3T"
      },
      "execution_count": null,
      "outputs": []
    },
    {
      "cell_type": "markdown",
      "source": [
        "**Cargar los datos**\n",
        "\n",
        "Para cargar datos y manipular los datos usamos Pandas. Pandas permite cargar datos de distintos formatos: CSV, JSON, HTML, HDF5, SQL, msgpack, Excel, ...\n",
        "\n",
        "Para estos ejemplos usaremos CSV, valores separados por comas"
      ],
      "metadata": {
        "id": "bvTSd5yz5eM_"
      }
    },
    {
      "cell_type": "code",
      "source": [
        "df=pd.read_csv(\"/content/drive/MyDrive/Analíticas de Aprendizaje/Datos_Est.csv\")\n",
        "df"
      ],
      "metadata": {
        "colab": {
          "base_uri": "https://localhost:8080/",
          "height": 520
        },
        "id": "jGMPQivF5qan",
        "outputId": "079a23b7-7ace-4712-8fc5-0d49f84ad495"
      },
      "execution_count": null,
      "outputs": [
        {
          "output_type": "execute_result",
          "data": {
            "text/plain": [
              "       Alumno  Nota Sexo\n",
              "0        Juan   3.0    M\n",
              "1       Pablo   4.0    M\n",
              "2      Martin   5.0    M\n",
              "3        Luis   3.5    M\n",
              "4      Isabel   4.0    F\n",
              "5     Daniela   5.0    F\n",
              "6      Ximena   4.0    F\n",
              "7       Pablo   3.5    M\n",
              "8       Nelly   4.0    F\n",
              "9       Jaime   5.0    M\n",
              "10     Carlos   2.0    M\n",
              "11    Ernesto   4.0    M\n",
              "12      Maria   5.0    F\n",
              "13  Francisco   2.0    M\n",
              "14     Martha   3.0    F"
            ],
            "text/html": [
              "\n",
              "  <div id=\"df-2754f4b0-e6b0-4760-900b-51d665fc7745\">\n",
              "    <div class=\"colab-df-container\">\n",
              "      <div>\n",
              "<style scoped>\n",
              "    .dataframe tbody tr th:only-of-type {\n",
              "        vertical-align: middle;\n",
              "    }\n",
              "\n",
              "    .dataframe tbody tr th {\n",
              "        vertical-align: top;\n",
              "    }\n",
              "\n",
              "    .dataframe thead th {\n",
              "        text-align: right;\n",
              "    }\n",
              "</style>\n",
              "<table border=\"1\" class=\"dataframe\">\n",
              "  <thead>\n",
              "    <tr style=\"text-align: right;\">\n",
              "      <th></th>\n",
              "      <th>Alumno</th>\n",
              "      <th>Nota</th>\n",
              "      <th>Sexo</th>\n",
              "    </tr>\n",
              "  </thead>\n",
              "  <tbody>\n",
              "    <tr>\n",
              "      <th>0</th>\n",
              "      <td>Juan</td>\n",
              "      <td>3.0</td>\n",
              "      <td>M</td>\n",
              "    </tr>\n",
              "    <tr>\n",
              "      <th>1</th>\n",
              "      <td>Pablo</td>\n",
              "      <td>4.0</td>\n",
              "      <td>M</td>\n",
              "    </tr>\n",
              "    <tr>\n",
              "      <th>2</th>\n",
              "      <td>Martin</td>\n",
              "      <td>5.0</td>\n",
              "      <td>M</td>\n",
              "    </tr>\n",
              "    <tr>\n",
              "      <th>3</th>\n",
              "      <td>Luis</td>\n",
              "      <td>3.5</td>\n",
              "      <td>M</td>\n",
              "    </tr>\n",
              "    <tr>\n",
              "      <th>4</th>\n",
              "      <td>Isabel</td>\n",
              "      <td>4.0</td>\n",
              "      <td>F</td>\n",
              "    </tr>\n",
              "    <tr>\n",
              "      <th>5</th>\n",
              "      <td>Daniela</td>\n",
              "      <td>5.0</td>\n",
              "      <td>F</td>\n",
              "    </tr>\n",
              "    <tr>\n",
              "      <th>6</th>\n",
              "      <td>Ximena</td>\n",
              "      <td>4.0</td>\n",
              "      <td>F</td>\n",
              "    </tr>\n",
              "    <tr>\n",
              "      <th>7</th>\n",
              "      <td>Pablo</td>\n",
              "      <td>3.5</td>\n",
              "      <td>M</td>\n",
              "    </tr>\n",
              "    <tr>\n",
              "      <th>8</th>\n",
              "      <td>Nelly</td>\n",
              "      <td>4.0</td>\n",
              "      <td>F</td>\n",
              "    </tr>\n",
              "    <tr>\n",
              "      <th>9</th>\n",
              "      <td>Jaime</td>\n",
              "      <td>5.0</td>\n",
              "      <td>M</td>\n",
              "    </tr>\n",
              "    <tr>\n",
              "      <th>10</th>\n",
              "      <td>Carlos</td>\n",
              "      <td>2.0</td>\n",
              "      <td>M</td>\n",
              "    </tr>\n",
              "    <tr>\n",
              "      <th>11</th>\n",
              "      <td>Ernesto</td>\n",
              "      <td>4.0</td>\n",
              "      <td>M</td>\n",
              "    </tr>\n",
              "    <tr>\n",
              "      <th>12</th>\n",
              "      <td>Maria</td>\n",
              "      <td>5.0</td>\n",
              "      <td>F</td>\n",
              "    </tr>\n",
              "    <tr>\n",
              "      <th>13</th>\n",
              "      <td>Francisco</td>\n",
              "      <td>2.0</td>\n",
              "      <td>M</td>\n",
              "    </tr>\n",
              "    <tr>\n",
              "      <th>14</th>\n",
              "      <td>Martha</td>\n",
              "      <td>3.0</td>\n",
              "      <td>F</td>\n",
              "    </tr>\n",
              "  </tbody>\n",
              "</table>\n",
              "</div>\n",
              "      <button class=\"colab-df-convert\" onclick=\"convertToInteractive('df-2754f4b0-e6b0-4760-900b-51d665fc7745')\"\n",
              "              title=\"Convert this dataframe to an interactive table.\"\n",
              "              style=\"display:none;\">\n",
              "        \n",
              "  <svg xmlns=\"http://www.w3.org/2000/svg\" height=\"24px\"viewBox=\"0 0 24 24\"\n",
              "       width=\"24px\">\n",
              "    <path d=\"M0 0h24v24H0V0z\" fill=\"none\"/>\n",
              "    <path d=\"M18.56 5.44l.94 2.06.94-2.06 2.06-.94-2.06-.94-.94-2.06-.94 2.06-2.06.94zm-11 1L8.5 8.5l.94-2.06 2.06-.94-2.06-.94L8.5 2.5l-.94 2.06-2.06.94zm10 10l.94 2.06.94-2.06 2.06-.94-2.06-.94-.94-2.06-.94 2.06-2.06.94z\"/><path d=\"M17.41 7.96l-1.37-1.37c-.4-.4-.92-.59-1.43-.59-.52 0-1.04.2-1.43.59L10.3 9.45l-7.72 7.72c-.78.78-.78 2.05 0 2.83L4 21.41c.39.39.9.59 1.41.59.51 0 1.02-.2 1.41-.59l7.78-7.78 2.81-2.81c.8-.78.8-2.07 0-2.86zM5.41 20L4 18.59l7.72-7.72 1.47 1.35L5.41 20z\"/>\n",
              "  </svg>\n",
              "      </button>\n",
              "      \n",
              "  <style>\n",
              "    .colab-df-container {\n",
              "      display:flex;\n",
              "      flex-wrap:wrap;\n",
              "      gap: 12px;\n",
              "    }\n",
              "\n",
              "    .colab-df-convert {\n",
              "      background-color: #E8F0FE;\n",
              "      border: none;\n",
              "      border-radius: 50%;\n",
              "      cursor: pointer;\n",
              "      display: none;\n",
              "      fill: #1967D2;\n",
              "      height: 32px;\n",
              "      padding: 0 0 0 0;\n",
              "      width: 32px;\n",
              "    }\n",
              "\n",
              "    .colab-df-convert:hover {\n",
              "      background-color: #E2EBFA;\n",
              "      box-shadow: 0px 1px 2px rgba(60, 64, 67, 0.3), 0px 1px 3px 1px rgba(60, 64, 67, 0.15);\n",
              "      fill: #174EA6;\n",
              "    }\n",
              "\n",
              "    [theme=dark] .colab-df-convert {\n",
              "      background-color: #3B4455;\n",
              "      fill: #D2E3FC;\n",
              "    }\n",
              "\n",
              "    [theme=dark] .colab-df-convert:hover {\n",
              "      background-color: #434B5C;\n",
              "      box-shadow: 0px 1px 3px 1px rgba(0, 0, 0, 0.15);\n",
              "      filter: drop-shadow(0px 1px 2px rgba(0, 0, 0, 0.3));\n",
              "      fill: #FFFFFF;\n",
              "    }\n",
              "  </style>\n",
              "\n",
              "      <script>\n",
              "        const buttonEl =\n",
              "          document.querySelector('#df-2754f4b0-e6b0-4760-900b-51d665fc7745 button.colab-df-convert');\n",
              "        buttonEl.style.display =\n",
              "          google.colab.kernel.accessAllowed ? 'block' : 'none';\n",
              "\n",
              "        async function convertToInteractive(key) {\n",
              "          const element = document.querySelector('#df-2754f4b0-e6b0-4760-900b-51d665fc7745');\n",
              "          const dataTable =\n",
              "            await google.colab.kernel.invokeFunction('convertToInteractive',\n",
              "                                                     [key], {});\n",
              "          if (!dataTable) return;\n",
              "\n",
              "          const docLinkHtml = 'Like what you see? Visit the ' +\n",
              "            '<a target=\"_blank\" href=https://colab.research.google.com/notebooks/data_table.ipynb>data table notebook</a>'\n",
              "            + ' to learn more about interactive tables.';\n",
              "          element.innerHTML = '';\n",
              "          dataTable['output_type'] = 'display_data';\n",
              "          await google.colab.output.renderOutput(dataTable, element);\n",
              "          const docLink = document.createElement('div');\n",
              "          docLink.innerHTML = docLinkHtml;\n",
              "          element.appendChild(docLink);\n",
              "        }\n",
              "      </script>\n",
              "    </div>\n",
              "  </div>\n",
              "  "
            ]
          },
          "metadata": {},
          "execution_count": 2
        }
      ]
    },
    {
      "cell_type": "markdown",
      "source": [
        "**Conocer el tipo de variable**"
      ],
      "metadata": {
        "id": "Yf20hQiIIsN6"
      }
    },
    {
      "cell_type": "code",
      "source": [
        "print(df.info())"
      ],
      "metadata": {
        "colab": {
          "base_uri": "https://localhost:8080/"
        },
        "id": "M1G0aAxSIpAj",
        "outputId": "2ff0e797-194a-4c79-8df3-eb6aa9c8c5db"
      },
      "execution_count": null,
      "outputs": [
        {
          "output_type": "stream",
          "name": "stdout",
          "text": [
            "<class 'pandas.core.frame.DataFrame'>\n",
            "RangeIndex: 15 entries, 0 to 14\n",
            "Data columns (total 3 columns):\n",
            " #   Column  Non-Null Count  Dtype  \n",
            "---  ------  --------------  -----  \n",
            " 0   Alumno  15 non-null     object \n",
            " 1   Nota    15 non-null     float64\n",
            " 2   Sexo    15 non-null     object \n",
            "dtypes: float64(1), object(2)\n",
            "memory usage: 488.0+ bytes\n",
            "None\n"
          ]
        }
      ]
    },
    {
      "cell_type": "markdown",
      "source": [
        "**Convertir las variables a cualitativas y cuantitativas**"
      ],
      "metadata": {
        "id": "H_PFXOQ5I1OQ"
      }
    },
    {
      "cell_type": "markdown",
      "source": [
        "**Tablas de frecuencia**"
      ],
      "metadata": {
        "id": "CJQBcOcZ71Ki"
      }
    },
    {
      "cell_type": "code",
      "source": [
        "## Alumno debe ser de tipo string (cadena)\n",
        "df.Alumno=df.Alumno.astype(\"str\")\n",
        "## Nota debe ser de tipo Numérico (float)\n",
        "df.Sexo=df.Sexo.astype(\"category\")"
      ],
      "metadata": {
        "id": "BJ_q6X2oJnRm"
      },
      "execution_count": null,
      "outputs": []
    },
    {
      "cell_type": "code",
      "source": [
        "print(df.info())"
      ],
      "metadata": {
        "colab": {
          "base_uri": "https://localhost:8080/"
        },
        "id": "D1_JgOYqOBad",
        "outputId": "2cc194c2-0cb9-4ce9-e4a1-b59290d5745f"
      },
      "execution_count": null,
      "outputs": [
        {
          "output_type": "stream",
          "name": "stdout",
          "text": [
            "<class 'pandas.core.frame.DataFrame'>\n",
            "RangeIndex: 15 entries, 0 to 14\n",
            "Data columns (total 3 columns):\n",
            " #   Column  Non-Null Count  Dtype   \n",
            "---  ------  --------------  -----   \n",
            " 0   Alumno  15 non-null     object  \n",
            " 1   Nota    15 non-null     float64 \n",
            " 2   Sexo    15 non-null     category\n",
            "dtypes: category(1), float64(1), object(1)\n",
            "memory usage: 507.0+ bytes\n",
            "None\n"
          ]
        }
      ]
    },
    {
      "cell_type": "code",
      "source": [
        "# Generar tabla de frecuencias\n",
        "tab1 = pd.crosstab(index=df[\"Nota\"],columns=\"frecuencia\")\n",
        "print(tab1)"
      ],
      "metadata": {
        "colab": {
          "base_uri": "https://localhost:8080/"
        },
        "id": "gzBO7BIt99HC",
        "outputId": "82d0f292-82ea-4db2-e2fc-96c00b46dd38"
      },
      "execution_count": null,
      "outputs": [
        {
          "output_type": "stream",
          "name": "stdout",
          "text": [
            "col_0  frecuencia\n",
            "Nota             \n",
            "2.0             2\n",
            "3.0             2\n",
            "3.5             2\n",
            "4.0             5\n",
            "5.0             4\n"
          ]
        }
      ]
    },
    {
      "cell_type": "code",
      "source": [
        "tab2 = pd.crosstab(index=df[\"Sexo\"],columns=\"frecuencia\")\n",
        "print(tab2)"
      ],
      "metadata": {
        "colab": {
          "base_uri": "https://localhost:8080/"
        },
        "id": "8CltgALl-hWJ",
        "outputId": "77b87556-85a8-4fbd-87e9-71467f81b50f"
      },
      "execution_count": null,
      "outputs": [
        {
          "output_type": "stream",
          "name": "stdout",
          "text": [
            "col_0  frecuencia\n",
            "Sexo             \n",
            "F               6\n",
            "M               9\n"
          ]
        }
      ]
    },
    {
      "cell_type": "markdown",
      "source": [
        "**Gráficas**"
      ],
      "metadata": {
        "id": "6cIdxcpX-6ZZ"
      }
    },
    {
      "cell_type": "code",
      "source": [
        "# Gráficas de sectores o pastel\n",
        "plt.pie(tab1,labels=tab1.index)\n",
        "plt.xlabel(\"Notas del examen\")"
      ],
      "metadata": {
        "colab": {
          "base_uri": "https://localhost:8080/",
          "height": 334
        },
        "id": "KgegAVfM-5yK",
        "outputId": "8d3c1bb6-819c-408d-cd83-e48597631903"
      },
      "execution_count": null,
      "outputs": [
        {
          "output_type": "stream",
          "name": "stderr",
          "text": [
            "/usr/local/lib/python3.7/dist-packages/ipykernel_launcher.py:2: MatplotlibDeprecationWarning: Non-1D inputs to pie() are currently squeeze()d, but this behavior is deprecated since 3.1 and will be removed in 3.3; pass a 1D array instead.\n",
            "  \n"
          ]
        },
        {
          "output_type": "execute_result",
          "data": {
            "text/plain": [
              "Text(0.5, 0, 'Notas del examen')"
            ]
          },
          "metadata": {},
          "execution_count": 8
        },
        {
          "output_type": "display_data",
          "data": {
            "text/plain": [
              "<Figure size 432x288 with 1 Axes>"
            ],
            "image/png": "[encoded data removed]"
          },
          "metadata": {}
        }
      ]
    },
    {
      "cell_type": "code",
      "source": [
        "plt.pie(tab2,labels=tab2.index)\n",
        "plt.xlabel(\"Sexo\")"
      ],
      "metadata": {
        "colab": {
          "base_uri": "https://localhost:8080/",
          "height": 334
        },
        "id": "dg8kNksQ_h6a",
        "outputId": "04648d95-b9fe-486c-b3a6-94b64ce2c0d3"
      },
      "execution_count": null,
      "outputs": [
        {
          "output_type": "stream",
          "name": "stderr",
          "text": [
            "/usr/local/lib/python3.7/dist-packages/ipykernel_launcher.py:1: MatplotlibDeprecationWarning: Non-1D inputs to pie() are currently squeeze()d, but this behavior is deprecated since 3.1 and will be removed in 3.3; pass a 1D array instead.\n",
            "  \"\"\"Entry point for launching an IPython kernel.\n"
          ]
        },
        {
          "output_type": "execute_result",
          "data": {
            "text/plain": [
              "Text(0.5, 0, 'Sexo')"
            ]
          },
          "metadata": {},
          "execution_count": 9
        },
        {
          "output_type": "display_data",
          "data": {
            "text/plain": [
              "<Figure size 432x288 with 1 Axes>"
            ],
            "image/png": "[encoded data removed]"
          },
          "metadata": {}
        }
      ]
    },
    {
      "cell_type": "code",
      "source": [
        "# Gráfico de barras"
      ],
      "metadata": {
        "id": "bLqL2zzd_znr"
      },
      "execution_count": null,
      "outputs": []
    },
    {
      "cell_type": "code",
      "source": [
        "tab1 = pd.crosstab(index=df[\"Nota\"],columns=\"frecuencia\")\n",
        "\n",
        "plt.bar(tab1.index,tab1[\"frecuencia\"])\n",
        "plt.xlabel(\"Notas del Examen\")"
      ],
      "metadata": {
        "colab": {
          "base_uri": "https://localhost:8080/",
          "height": 296
        },
        "id": "55yud__SA-vW",
        "outputId": "9b03ad12-35fe-448f-9f9a-3c2794bdc5ac"
      },
      "execution_count": null,
      "outputs": [
        {
          "output_type": "execute_result",
          "data": {
            "text/plain": [
              "Text(0.5, 0, 'Notas del Examen')"
            ]
          },
          "metadata": {},
          "execution_count": 10
        },
        {
          "output_type": "display_data",
          "data": {
            "text/plain": [
              "<Figure size 432x288 with 1 Axes>"
            ],
            "image/png": "[encoded data removed]"
          },
          "metadata": {
            "needs_background": "light"
          }
        }
      ]
    },
    {
      "cell_type": "code",
      "source": [
        "tab2 = pd.crosstab(index=df[\"Sexo\"],columns=\"frecuencia\")\n",
        "\n",
        "plt.bar(tab2.index,tab2[\"frecuencia\"])\n",
        "plt.xlabel(\"Sexo Estudiantes\")"
      ],
      "metadata": {
        "colab": {
          "base_uri": "https://localhost:8080/",
          "height": 296
        },
        "id": "jrXm1tBFBPgO",
        "outputId": "3b0ae931-f0ed-4b7b-f03b-d499d1dc4dd4"
      },
      "execution_count": null,
      "outputs": [
        {
          "output_type": "execute_result",
          "data": {
            "text/plain": [
              "Text(0.5, 0, 'Sexo Estudiantes')"
            ]
          },
          "metadata": {},
          "execution_count": 11
        },
        {
          "output_type": "display_data",
          "data": {
            "text/plain": [
              "<Figure size 432x288 with 1 Axes>"
            ],
            "image/png": "[encoded data removed]"
          },
          "metadata": {
            "needs_background": "light"
          }
        }
      ]
    },
    {
      "cell_type": "markdown",
      "source": [
        "**Medidas de tendencia central**"
      ],
      "metadata": {
        "id": "FGz5FjBWEMjC"
      }
    },
    {
      "cell_type": "code",
      "source": [
        "# Se debe definir el nuevo dataframe\n",
        "df1=df['Nota']"
      ],
      "metadata": {
        "id": "E-IRZWx2OR8W"
      },
      "execution_count": null,
      "outputs": []
    },
    {
      "cell_type": "code",
      "source": [
        "# Calcular Media\n",
        "print(stats.mean(df1))"
      ],
      "metadata": {
        "colab": {
          "base_uri": "https://localhost:8080/"
        },
        "id": "r2yVecexNQic",
        "outputId": "b109353c-1a83-484c-b06d-66b05c8c8c7b"
      },
      "execution_count": null,
      "outputs": [
        {
          "output_type": "stream",
          "name": "stdout",
          "text": [
            "3.8\n"
          ]
        }
      ]
    },
    {
      "cell_type": "code",
      "source": [
        "# Calcular Mediana\n",
        "print(stats.median(df1))"
      ],
      "metadata": {
        "colab": {
          "base_uri": "https://localhost:8080/"
        },
        "id": "1bjKGT-mOcE7",
        "outputId": "c81fa3ae-9af6-4114-a30e-3f396528f159"
      },
      "execution_count": null,
      "outputs": [
        {
          "output_type": "stream",
          "name": "stdout",
          "text": [
            "4.0\n"
          ]
        }
      ]
    },
    {
      "cell_type": "code",
      "source": [
        "#Calcular Moda\n",
        "print(stats.mode(df1))"
      ],
      "metadata": {
        "colab": {
          "base_uri": "https://localhost:8080/"
        },
        "id": "1cp8PQeLOoQx",
        "outputId": "0a617194-57e0-43e2-95b6-47c9a597e454"
      },
      "execution_count": null,
      "outputs": [
        {
          "output_type": "stream",
          "name": "stdout",
          "text": [
            "4.0\n"
          ]
        }
      ]
    },
    {
      "cell_type": "code",
      "source": [
        "df2=df['Sexo']"
      ],
      "metadata": {
        "id": "0g3bFRqVPB9z"
      },
      "execution_count": null,
      "outputs": []
    },
    {
      "cell_type": "code",
      "source": [
        "print(stats.mode(df2))"
      ],
      "metadata": {
        "colab": {
          "base_uri": "https://localhost:8080/"
        },
        "id": "AUtf_kQUPIuP",
        "outputId": "82fbadf7-d14e-42c6-84a7-76cc552ac2e9"
      },
      "execution_count": null,
      "outputs": [
        {
          "output_type": "stream",
          "name": "stdout",
          "text": [
            "M\n"
          ]
        }
      ]
    },
    {
      "cell_type": "markdown",
      "source": [
        "**Medidas de dispersión**"
      ],
      "metadata": {
        "id": "eJp5MgXcPY20"
      }
    },
    {
      "cell_type": "code",
      "source": [
        "# Varianza\n",
        "print(stats.pvariance(df1))"
      ],
      "metadata": {
        "colab": {
          "base_uri": "https://localhost:8080/"
        },
        "id": "WuGaluDtPk_X",
        "outputId": "4d258af8-504e-4d7c-ca6d-4d7dd0ab9362"
      },
      "execution_count": null,
      "outputs": [
        {
          "output_type": "stream",
          "name": "stdout",
          "text": [
            "0.9266666666666666\n"
          ]
        }
      ]
    },
    {
      "cell_type": "code",
      "source": [
        "# Desviación\n",
        "print(stats.pstdev(df1))  "
      ],
      "metadata": {
        "colab": {
          "base_uri": "https://localhost:8080/"
        },
        "id": "01nXK0GtPxAR",
        "outputId": "171f56bf-d9b5-47a2-a7c3-d8866a3e0277"
      },
      "execution_count": null,
      "outputs": [
        {
          "output_type": "stream",
          "name": "stdout",
          "text": [
            "0.9626352718795768\n"
          ]
        }
      ]
    },
    {
      "cell_type": "code",
      "source": [
        "# Desviación estándar\n",
        "print(stats.stdev(df1))"
      ],
      "metadata": {
        "colab": {
          "base_uri": "https://localhost:8080/"
        },
        "id": "YYaCXiueQFbM",
        "outputId": "9dfc28b2-ecc5-46c6-86c5-cf82dbe90a99"
      },
      "execution_count": null,
      "outputs": [
        {
          "output_type": "stream",
          "name": "stdout",
          "text": [
            "0.996422170998389\n"
          ]
        }
      ]
    },
    {
      "cell_type": "markdown",
      "source": [
        "**Diagrama de cajas**-Boxplot"
      ],
      "metadata": {
        "id": "G-LL6r5QRsgO"
      }
    },
    {
      "cell_type": "code",
      "source": [
        "# Creación del plot\n",
        "plt.boxplot(df1)\n",
        "plt.show()"
      ],
      "metadata": {
        "colab": {
          "base_uri": "https://localhost:8080/",
          "height": 265
        },
        "id": "5QNoZuBHRhCi",
        "outputId": "040de524-5032-4403-c68e-293408062002"
      },
      "execution_count": null,
      "outputs": [
        {
          "output_type": "display_data",
          "data": {
            "text/plain": [
              "<Figure size 432x288 with 1 Axes>"
            ],
            "image/png": "[encoded data removed]"
          },
          "metadata": {
            "needs_background": "light"
          }
        }
      ]
    }
  ]
}